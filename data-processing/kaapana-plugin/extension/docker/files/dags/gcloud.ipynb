{
 "cells": [
  {
   "cell_type": "code",
   "execution_count": 30,
   "metadata": {},
   "outputs": [
    {
     "name": "stdout",
     "output_type": "stream",
     "text": [
      "Defaulting to user installation because normal site-packages is not writeable\n",
      "Collecting https://github.com/GoogleCloudPlatform/healthcare-api-dicomweb-cli/archive/v1.0.zip\n",
      "  Using cached https://github.com/GoogleCloudPlatform/healthcare-api-dicomweb-cli/archive/v1.0.zip\n",
      "  Preparing metadata (setup.py) ... \u001b[?25ldone\n",
      "\u001b[?25hRequirement already satisfied: fire in /home/ubuntu/.local/lib/python3.10/site-packages (from dcmweb==1.0) (0.5.0)\n",
      "Requirement already satisfied: google-auth in /home/ubuntu/.local/lib/python3.10/site-packages (from dcmweb==1.0) (2.27.0)\n",
      "Requirement already satisfied: hurry.filesize in /home/ubuntu/.local/lib/python3.10/site-packages (from dcmweb==1.0) (0.9)\n",
      "Requirement already satisfied: requests in /home/ubuntu/.local/lib/python3.10/site-packages (from dcmweb==1.0) (2.31.0)\n",
      "Requirement already satisfied: validators in /home/ubuntu/.local/lib/python3.10/site-packages (from dcmweb==1.0) (0.22.0)\n",
      "Requirement already satisfied: six in /usr/lib/python3/dist-packages (from fire->dcmweb==1.0) (1.16.0)\n",
      "Requirement already satisfied: termcolor in /home/ubuntu/.local/lib/python3.10/site-packages (from fire->dcmweb==1.0) (2.4.0)\n",
      "Requirement already satisfied: pyasn1-modules>=0.2.1 in /usr/lib/python3/dist-packages (from google-auth->dcmweb==1.0) (0.2.1)\n",
      "Requirement already satisfied: cachetools<6.0,>=2.0.0 in /home/ubuntu/.local/lib/python3.10/site-packages (from google-auth->dcmweb==1.0) (5.3.2)\n",
      "Requirement already satisfied: rsa<5,>=3.1.4 in /home/ubuntu/.local/lib/python3.10/site-packages (from google-auth->dcmweb==1.0) (4.9)\n",
      "Requirement already satisfied: setuptools in /usr/lib/python3/dist-packages (from hurry.filesize->dcmweb==1.0) (59.6.0)\n",
      "Requirement already satisfied: urllib3<3,>=1.21.1 in /usr/lib/python3/dist-packages (from requests->dcmweb==1.0) (1.26.5)\n",
      "Requirement already satisfied: certifi>=2017.4.17 in /usr/lib/python3/dist-packages (from requests->dcmweb==1.0) (2020.6.20)\n",
      "Requirement already satisfied: charset-normalizer<4,>=2 in /home/ubuntu/.local/lib/python3.10/site-packages (from requests->dcmweb==1.0) (3.3.2)\n",
      "Requirement already satisfied: idna<4,>=2.5 in /usr/lib/python3/dist-packages (from requests->dcmweb==1.0) (3.3)\n",
      "Requirement already satisfied: pyasn1>=0.1.3 in /usr/lib/python3/dist-packages (from rsa<5,>=3.1.4->google-auth->dcmweb==1.0) (0.4.8)\n"
     ]
    }
   ],
   "source": [
    "!pip install https://github.com/GoogleCloudPlatform/healthcare-api-dicomweb-cli/archive/v1.0.zip\n",
    "\n",
    "from pathlib import Path\n",
    "import os\n",
    "\n",
    "from google.auth.transport import requests\n",
    "from google.oauth2 import service_account\n",
    "\n",
    "def dicomweb_search_instance(project_id, location, dataset_id, dicom_store_id):\n",
    "    \"\"\"Handles the GET requests specified in DICOMweb standard.\n",
    "\n",
    "    See https://github.com/GoogleCloudPlatform/python-docs-samples/tree/main/healthcare/api-client/v1/dicom\n",
    "    before running the sample.\"\"\"\n",
    "\n",
    "\n",
    "    os.environ[\"GOOGLE_APPLICATION_CREDENTIALS\"]=\"/home/ubuntu/credentials.json\"\n",
    "\n",
    "    if not Path(os.environ[\"GOOGLE_APPLICATION_CREDENTIALS\"]).exists():\n",
    "        print(\"ERROR, CREDENTIALS FILE IS NOT LOCATED\")\n",
    "        print(os.getcwd())\n",
    "        print(os.environ[\"GOOGLE_APPLICATION_CREDENTIALS\"])\n",
    "\n",
    "    credentials = service_account.Credentials.from_service_account_file(\n",
    "        os.environ[\"GOOGLE_APPLICATION_CREDENTIALS\"]\n",
    "    )\n",
    "\n",
    "    scoped_credentials = credentials.with_scopes(\n",
    "        [\"https://www.googleapis.com/auth/cloud-platform\"]\n",
    "    )\n",
    "    session = requests.AuthorizedSession(scoped_credentials)\n",
    "    base_url = \"https://healthcare.googleapis.com/v1\"\n",
    "    url = f\"{base_url}/projects/{project_id}/locations/{location}\"\n",
    "    dicomweb_path = \"{}/datasets/{}/dicomStores/{}/dicomWeb/instances\".format(\n",
    "        url, dataset_id, dicom_store_id\n",
    "    )\n",
    "    headers = {\"Content-Type\": \"application/dicom+json; charset=utf-8\"}\n",
    "\n",
    "    response = session.get(dicomweb_path, headers=headers)\n",
    "    response.raise_for_status()\n",
    "    instances = response.json()\n",
    "\n",
    "    return instances\n",
    "\n",
    "project_id = \"idc-external-031\"\n",
    "location = \"europe-west2\"\n",
    "dataset_id = \"kaapana-integration-test\"\n",
    "dicom_store_id = \"kaapana-integration-test-store\"\n",
    "\n",
    "all_metadata_dict = dicomweb_search_instance(\n",
    "    project_id=project_id,\n",
    "    location=location,\n",
    "    dataset_id= dataset_id,\n",
    "    dicom_store_id = dicom_store_id\n",
    ")"
   ]
  },
  {
   "cell_type": "code",
   "execution_count": 39,
   "metadata": {},
   "outputs": [],
   "source": [
    "import os\n",
    "from google.auth.transport import requests\n",
    "from google.oauth2 import service_account"
   ]
  },
  {
   "cell_type": "code",
   "execution_count": 42,
   "metadata": {},
   "outputs": [],
   "source": [
    "series_uid = '1.3.6.1.4.1.14519.5.2.1.99.1071.15503385522001218410281775124839'"
   ]
  },
  {
   "cell_type": "code",
   "execution_count": 43,
   "metadata": {},
   "outputs": [],
   "source": [
    "base_url = \"https://healthcare.googleapis.com/v1/projects/idc-external-031/locations/europe-west2/datasets/kaapana-integration-test/dicomStores/kaapana-integration-test-store/dicomWeb\""
   ]
  },
  {
   "cell_type": "code",
   "execution_count": 44,
   "metadata": {},
   "outputs": [],
   "source": [
    "dicomweb_endpoint = \"https://healthcare.googleapis.com/v1/projects/idc-external-031/locations/europe-west2/datasets/kaapana-integration-test/dicomStores/kaapana-integration-test-store/dicomWeb\""
   ]
  },
  {
   "cell_type": "code",
   "execution_count": 58,
   "metadata": {},
   "outputs": [],
   "source": [
    "def get_instances_of_series(series_uid):\n",
    "    credentials = service_account.Credentials.from_service_account_file(\n",
    "        os.environ[\"GOOGLE_APPLICATION_CREDENTIALS\"]\n",
    "    )\n",
    "    scoped_credentials = credentials.with_scopes(\n",
    "        [\"https://www.googleapis.com/auth/cloud-platform\"]\n",
    "    )\n",
    "    session = requests.AuthorizedSession(scoped_credentials)\n",
    "\n",
    "    series_path = f\"{dicomweb_endpoint}/instances\"\n",
    "    params = {\"SeriesInstanceUID\": series_uid}\n",
    "\n",
    "    # Set the required Accept header on the request\n",
    "    headers = {\"Content-Type\": \"application/dicom+json; charset=utf-8\"}\n",
    "    response = session.get(series_path, headers=headers)\n",
    "\n",
    "    response = response.json()\n",
    "    instance_list = []\n",
    "    for instance in response:\n",
    "        instance_list.append(\n",
    "            [\n",
    "                instance[\"0020000D\"][\"Value\"][0],  # StudyInstanceUID\n",
    "                instance[\"0020000E\"][\"Value\"][0],  # SeriesInstanceUID\n",
    "                instance[\"00080018\"][\"Value\"][0],  # SOPInstanceUID\n",
    "            ]\n",
    "        )"
   ]
  },
  {
   "cell_type": "code",
   "execution_count": null,
   "metadata": {},
   "outputs": [],
   "source": [
    "def get_session():\n",
    "    credentials = service_account.Credentials.from_service_account_file(\n",
    "        os.environ[\"GOOGLE_APPLICATION_CREDENTIALS\"]\n",
    "    )\n",
    "    scoped_credentials = credentials.with_scopes(\n",
    "        [\"https://www.googleapis.com/auth/cloud-platform\"]\n",
    "    )\n",
    "    session = requests.AuthorizedSession(scoped_credentials)\n",
    "    return session"
   ]
  },
  {
   "cell_type": "code",
   "execution_count": null,
   "metadata": {},
   "outputs": [],
   "source": []
  },
  {
   "cell_type": "code",
   "execution_count": 46,
   "metadata": {},
   "outputs": [],
   "source": [
    "def downloadSeries(series_uid):\n",
    "    dicomwebpath = \"https://healthcare.googleapis.com/v1/projects/idc-external-031/locations/europe-west2/datasets/kaapana-integration-test/dicomStores/kaapana-integration-test-store/dicomWeb\"\n",
    "\n",
    "    instance_list = get_instances_of_series(series_uid)\n",
    "\n",
    "    for instance in instance_list:\n",
    "        dicomweb_path = f\"{base_url}/studies/{instance[0]}/series/{instance[1]}/instances/{instance[2]}\"\n",
    "\n",
    "    file_name = \"instance.dcm\"\n",
    "\n",
    "    # Set the required Accept header on the request\n",
    "    headers = {\"Accept\": \"application/dicom; transfer-syntax=*\"}\n",
    "    response = session.get(dicomweb_path, headers=headers)\n",
    "    response.raise_for_status()\n",
    "\n",
    "    with open(file_name, \"wb\") as f:\n",
    "        f.write(response.content)\n",
    "        print(\n",
    "            \"Retrieved DICOM instance and saved to {} in current directory\".format(\n",
    "                file_name\n",
    "            )\n",
    "        )"
   ]
  },
  {
   "cell_type": "code",
   "execution_count": 59,
   "metadata": {},
   "outputs": [
    {
     "ename": "TypeError",
     "evalue": "'NoneType' object is not iterable",
     "output_type": "error",
     "traceback": [
      "\u001b[0;31m---------------------------------------------------------------------------\u001b[0m",
      "\u001b[0;31mTypeError\u001b[0m                                 Traceback (most recent call last)",
      "Cell \u001b[0;32mIn[59], line 1\u001b[0m\n\u001b[0;32m----> 1\u001b[0m \u001b[43mdownloadSeries\u001b[49m\u001b[43m(\u001b[49m\u001b[43mseries_uid\u001b[49m\u001b[43m)\u001b[49m\n",
      "Cell \u001b[0;32mIn[46], line 5\u001b[0m, in \u001b[0;36mdownloadSeries\u001b[0;34m(series_uid)\u001b[0m\n\u001b[1;32m      2\u001b[0m dicomwebpath \u001b[38;5;241m=\u001b[39m \u001b[38;5;124m\"\u001b[39m\u001b[38;5;124mhttps://healthcare.googleapis.com/v1/projects/idc-external-031/locations/europe-west2/datasets/kaapana-integration-test/dicomStores/kaapana-integration-test-store/dicomWeb\u001b[39m\u001b[38;5;124m\"\u001b[39m\n\u001b[1;32m      3\u001b[0m instance_list \u001b[38;5;241m=\u001b[39m get_instances_of_series(series_uid)\n\u001b[0;32m----> 5\u001b[0m \u001b[38;5;28;01mfor\u001b[39;00m instance \u001b[38;5;129;01min\u001b[39;00m instance_list:\n\u001b[1;32m      6\u001b[0m     dicomweb_path \u001b[38;5;241m=\u001b[39m \u001b[38;5;124mf\u001b[39m\u001b[38;5;124m\"\u001b[39m\u001b[38;5;132;01m{\u001b[39;00mbase_url\u001b[38;5;132;01m}\u001b[39;00m\u001b[38;5;124m/studies/\u001b[39m\u001b[38;5;132;01m{\u001b[39;00minstance_list[\u001b[38;5;241m0\u001b[39m][\u001b[38;5;241m0\u001b[39m]\u001b[38;5;132;01m}\u001b[39;00m\u001b[38;5;124m/series/\u001b[39m\u001b[38;5;132;01m{\u001b[39;00minstance_list[\u001b[38;5;241m0\u001b[39m][\u001b[38;5;241m1\u001b[39m]\u001b[38;5;132;01m}\u001b[39;00m\u001b[38;5;124m/instances/\u001b[39m\u001b[38;5;132;01m{\u001b[39;00minstance_list[\u001b[38;5;241m0\u001b[39m][\u001b[38;5;241m2\u001b[39m]\u001b[38;5;132;01m}\u001b[39;00m\u001b[38;5;124m\"\u001b[39m\n\u001b[1;32m      8\u001b[0m credentials \u001b[38;5;241m=\u001b[39m service_account\u001b[38;5;241m.\u001b[39mCredentials\u001b[38;5;241m.\u001b[39mfrom_service_account_file(\n\u001b[1;32m      9\u001b[0m     os\u001b[38;5;241m.\u001b[39menviron[\u001b[38;5;124m\"\u001b[39m\u001b[38;5;124mGOOGLE_APPLICATION_CREDENTIALS\u001b[39m\u001b[38;5;124m\"\u001b[39m]\n\u001b[1;32m     10\u001b[0m )\n",
      "\u001b[0;31mTypeError\u001b[0m: 'NoneType' object is not iterable"
     ]
    }
   ],
   "source": [
    "downloadSeries(series_uid)"
   ]
  },
  {
   "cell_type": "code",
   "execution_count": 51,
   "metadata": {},
   "outputs": [
    {
     "data": {
      "text/plain": [
       "<dicomweb_client.web.DICOMwebClient at 0x7fce29ecb910>"
      ]
     },
     "execution_count": 51,
     "metadata": {},
     "output_type": "execute_result"
    }
   ],
   "source": [
    "from dicomweb_client.api import DICOMwebClient\n",
    "from dicomweb_client.ext.gcp.session_utils import create_session_from_gcp_credentials\n",
    "from dicomweb_client.ext.gcp.uri import GoogleCloudHealthcareURL\n",
    "\n",
    "session = create_session_from_gcp_credentials()\n",
    "\n",
    "url = GoogleCloudHealthcareURL(\n",
    "    project_id='idc-external-031',\n",
    "    location='europe-west2',\n",
    "    dataset_id='kaapana-integration-test',\n",
    "    dicom_store_id='kaapana-integration-test-store'\n",
    ")\n",
    "\n",
    "client = DICOMwebClient(\n",
    "    url=str(url),\n",
    "    session=session\n",
    ")"
   ]
  },
  {
   "cell_type": "code",
   "execution_count": 55,
   "metadata": {},
   "outputs": [],
   "source": [
    "studies = client.search_for_studies()"
   ]
  },
  {
   "cell_type": "code",
   "execution_count": 56,
   "metadata": {},
   "outputs": [
    {
     "data": {
      "text/plain": [
       "[{'00080005': {'vr': 'CS', 'Value': ['ISO_IR 100']},\n",
       "  '00080020': {'vr': 'DA', 'Value': ['19001016']},\n",
       "  '00080030': {'vr': 'TM', 'Value': ['120024.000']},\n",
       "  '00080050': {'vr': 'SH'},\n",
       "  '00080090': {'vr': 'PN'},\n",
       "  '00100010': {'vr': 'PN', 'Value': [{'Alphabetic': 'A951074'}]},\n",
       "  '00100020': {'vr': 'LO', 'Value': ['A951074']},\n",
       "  '00100030': {'vr': 'DA'},\n",
       "  '00100040': {'vr': 'CS', 'Value': ['M']},\n",
       "  '0020000D': {'vr': 'UI',\n",
       "   'Value': ['1.3.6.1.4.1.14519.5.2.1.99.1071.15503385522001218410281775124839']},\n",
       "  '00200010': {'vr': 'SH'}}]"
      ]
     },
     "execution_count": 56,
     "metadata": {},
     "output_type": "execute_result"
    }
   ],
   "source": [
    "studies"
   ]
  },
  {
   "cell_type": "code",
   "execution_count": 57,
   "metadata": {},
   "outputs": [
    {
     "ename": "HTTPError",
     "evalue": "400 Client Error: Bad Request for url: https://healthcare.googleapis.com/v1/projects/idc-external-031/locations/europe-west2/datasets/kaapana-integration-test/dicomStores/kaapana-integration-test-store/dicomWeb/studies/1.2.826.0.1.3680043.8.1055.1.20111103111148288.98361414.79379639/series/1.2.826.0.1.3680043.8.1055.1.20111103111208937.49685336.24517034/instances/1.2.826.0.1.3680043.8.1055.1.20111103111208937.40440871.13152534/frames/1/rendered?quality=95&iccprofile=yes",
     "output_type": "error",
     "traceback": [
      "\u001b[0;31m---------------------------------------------------------------------------\u001b[0m",
      "\u001b[0;31mHTTPError\u001b[0m                                 Traceback (most recent call last)",
      "Cell \u001b[0;32mIn[57], line 1\u001b[0m\n\u001b[0;32m----> 1\u001b[0m frames \u001b[38;5;241m=\u001b[39m \u001b[43mclient\u001b[49m\u001b[38;5;241;43m.\u001b[39;49m\u001b[43mretrieve_instance_frames_rendered\u001b[49m\u001b[43m(\u001b[49m\n\u001b[1;32m      2\u001b[0m \u001b[43m    \u001b[49m\u001b[43mstudy_instance_uid\u001b[49m\u001b[38;5;241;43m=\u001b[39;49m\u001b[38;5;124;43m'\u001b[39;49m\u001b[38;5;124;43m1.2.826.0.1.3680043.8.1055.1.20111103111148288.98361414.79379639\u001b[39;49m\u001b[38;5;124;43m'\u001b[39;49m\u001b[43m,\u001b[49m\n\u001b[1;32m      3\u001b[0m \u001b[43m    \u001b[49m\u001b[43mseries_instance_uid\u001b[49m\u001b[38;5;241;43m=\u001b[39;49m\u001b[38;5;124;43m'\u001b[39;49m\u001b[38;5;124;43m1.2.826.0.1.3680043.8.1055.1.20111103111208937.49685336.24517034\u001b[39;49m\u001b[38;5;124;43m'\u001b[39;49m\u001b[43m,\u001b[49m\n\u001b[1;32m      4\u001b[0m \u001b[43m    \u001b[49m\u001b[43msop_instance_uid\u001b[49m\u001b[38;5;241;43m=\u001b[39;49m\u001b[38;5;124;43m'\u001b[39;49m\u001b[38;5;124;43m1.2.826.0.1.3680043.8.1055.1.20111103111208937.40440871.13152534\u001b[39;49m\u001b[38;5;124;43m'\u001b[39;49m\u001b[43m,\u001b[49m\n\u001b[1;32m      5\u001b[0m \u001b[43m    \u001b[49m\u001b[43mframe_numbers\u001b[49m\u001b[38;5;241;43m=\u001b[39;49m\u001b[43m[\u001b[49m\u001b[38;5;241;43m1\u001b[39;49m\u001b[43m]\u001b[49m\u001b[43m,\u001b[49m\n\u001b[1;32m      6\u001b[0m \u001b[43m    \u001b[49m\u001b[43mmedia_types\u001b[49m\u001b[38;5;241;43m=\u001b[39;49m\u001b[43m(\u001b[49m\u001b[38;5;124;43m'\u001b[39;49m\u001b[38;5;124;43mimage/jpeg\u001b[39;49m\u001b[38;5;124;43m'\u001b[39;49m\u001b[43m,\u001b[49m\u001b[43m \u001b[49m\u001b[43m)\u001b[49m\u001b[43m,\u001b[49m\n\u001b[1;32m      7\u001b[0m \u001b[43m    \u001b[49m\u001b[43mparams\u001b[49m\u001b[38;5;241;43m=\u001b[39;49m\u001b[43m{\u001b[49m\u001b[38;5;124;43m'\u001b[39;49m\u001b[38;5;124;43mquality\u001b[39;49m\u001b[38;5;124;43m'\u001b[39;49m\u001b[43m:\u001b[49m\u001b[43m \u001b[49m\u001b[38;5;241;43m95\u001b[39;49m\u001b[43m,\u001b[49m\u001b[43m \u001b[49m\u001b[38;5;124;43m'\u001b[39;49m\u001b[38;5;124;43miccprofile\u001b[39;49m\u001b[38;5;124;43m'\u001b[39;49m\u001b[43m:\u001b[49m\u001b[43m \u001b[49m\u001b[38;5;124;43m'\u001b[39;49m\u001b[38;5;124;43myes\u001b[39;49m\u001b[38;5;124;43m'\u001b[39;49m\u001b[43m}\u001b[49m\n\u001b[1;32m      8\u001b[0m \u001b[43m)\u001b[49m\n",
      "File \u001b[0;32m~/.local/lib/python3.10/site-packages/dicomweb_client/web.py:3088\u001b[0m, in \u001b[0;36mDICOMwebClient.retrieve_instance_frames_rendered\u001b[0;34m(self, study_instance_uid, series_instance_uid, sop_instance_uid, frame_numbers, media_types, params)\u001b[0m\n\u001b[1;32m   3086\u001b[0m common_media_type \u001b[38;5;241m=\u001b[39m common_media_types[\u001b[38;5;241m0\u001b[39m]\n\u001b[1;32m   3087\u001b[0m \u001b[38;5;28;01mif\u001b[39;00m common_media_type\u001b[38;5;241m.\u001b[39mstartswith(\u001b[38;5;124m'\u001b[39m\u001b[38;5;124mimage\u001b[39m\u001b[38;5;124m'\u001b[39m):\n\u001b[0;32m-> 3088\u001b[0m     \u001b[38;5;28;01mreturn\u001b[39;00m \u001b[38;5;28;43mself\u001b[39;49m\u001b[38;5;241;43m.\u001b[39;49m\u001b[43m_http_get_image\u001b[49m\u001b[43m(\u001b[49m\u001b[43murl\u001b[49m\u001b[43m,\u001b[49m\u001b[43m \u001b[49m\u001b[43mmedia_types\u001b[49m\u001b[43m,\u001b[49m\u001b[43m \u001b[49m\u001b[43mparams\u001b[49m\u001b[43m)\u001b[49m\n\u001b[1;32m   3089\u001b[0m \u001b[38;5;28;01melif\u001b[39;00m common_media_type\u001b[38;5;241m.\u001b[39mstartswith(\u001b[38;5;124m'\u001b[39m\u001b[38;5;124mvideo\u001b[39m\u001b[38;5;124m'\u001b[39m):\n\u001b[1;32m   3090\u001b[0m     \u001b[38;5;28;01mreturn\u001b[39;00m \u001b[38;5;28mself\u001b[39m\u001b[38;5;241m.\u001b[39m_http_get_video(url, media_types, params)\n",
      "File \u001b[0;32m~/.local/lib/python3.10/site-packages/dicomweb_client/web.py:1344\u001b[0m, in \u001b[0;36mDICOMwebClient._http_get_image\u001b[0;34m(self, url, media_types, params, stream)\u001b[0m\n\u001b[1;32m   1332\u001b[0m supported_media_types \u001b[38;5;241m=\u001b[39m {\n\u001b[1;32m   1333\u001b[0m     \u001b[38;5;124m'\u001b[39m\u001b[38;5;124mimage/\u001b[39m\u001b[38;5;124m'\u001b[39m,\n\u001b[1;32m   1334\u001b[0m     \u001b[38;5;124m'\u001b[39m\u001b[38;5;124mimage/*\u001b[39m\u001b[38;5;124m'\u001b[39m,\n\u001b[0;32m   (...)\u001b[0m\n\u001b[1;32m   1338\u001b[0m     \u001b[38;5;124m'\u001b[39m\u001b[38;5;124mimage/png\u001b[39m\u001b[38;5;124m'\u001b[39m,\n\u001b[1;32m   1339\u001b[0m }\n\u001b[1;32m   1340\u001b[0m accept_header_field_value \u001b[38;5;241m=\u001b[39m \u001b[38;5;28mself\u001b[39m\u001b[38;5;241m.\u001b[39m_build_accept_header_field_value(\n\u001b[1;32m   1341\u001b[0m     media_types,\n\u001b[1;32m   1342\u001b[0m     supported_media_types\n\u001b[1;32m   1343\u001b[0m )\n\u001b[0;32m-> 1344\u001b[0m response \u001b[38;5;241m=\u001b[39m \u001b[38;5;28;43mself\u001b[39;49m\u001b[38;5;241;43m.\u001b[39;49m\u001b[43m_http_get\u001b[49m\u001b[43m(\u001b[49m\n\u001b[1;32m   1345\u001b[0m \u001b[43m    \u001b[49m\u001b[43murl\u001b[49m\u001b[43m,\u001b[49m\n\u001b[1;32m   1346\u001b[0m \u001b[43m    \u001b[49m\u001b[43mparams\u001b[49m\u001b[38;5;241;43m=\u001b[39;49m\u001b[43mparams\u001b[49m\u001b[43m,\u001b[49m\n\u001b[1;32m   1347\u001b[0m \u001b[43m    \u001b[49m\u001b[43mheaders\u001b[49m\u001b[38;5;241;43m=\u001b[39;49m\u001b[43m{\u001b[49m\u001b[38;5;124;43m'\u001b[39;49m\u001b[38;5;124;43mAccept\u001b[39;49m\u001b[38;5;124;43m'\u001b[39;49m\u001b[43m:\u001b[49m\u001b[43m \u001b[49m\u001b[43maccept_header_field_value\u001b[49m\u001b[43m}\u001b[49m\u001b[43m,\u001b[49m\n\u001b[1;32m   1348\u001b[0m \u001b[43m    \u001b[49m\u001b[43mstream\u001b[49m\u001b[38;5;241;43m=\u001b[39;49m\u001b[43mstream\u001b[49m\n\u001b[1;32m   1349\u001b[0m \u001b[43m\u001b[49m\u001b[43m)\u001b[49m\n\u001b[1;32m   1350\u001b[0m \u001b[38;5;28;01mreturn\u001b[39;00m response\u001b[38;5;241m.\u001b[39mcontent\n",
      "File \u001b[0;32m~/.local/lib/python3.10/site-packages/dicomweb_client/web.py:536\u001b[0m, in \u001b[0;36mDICOMwebClient._http_get\u001b[0;34m(self, url, params, headers, stream)\u001b[0m\n\u001b[1;32m    534\u001b[0m response \u001b[38;5;241m=\u001b[39m _invoke_get_request(url, headers)\n\u001b[1;32m    535\u001b[0m logger\u001b[38;5;241m.\u001b[39mdebug(\u001b[38;5;124mf\u001b[39m\u001b[38;5;124m'\u001b[39m\u001b[38;5;124mrequest status code: \u001b[39m\u001b[38;5;132;01m{\u001b[39;00mresponse\u001b[38;5;241m.\u001b[39mstatus_code\u001b[38;5;132;01m}\u001b[39;00m\u001b[38;5;124m'\u001b[39m)\n\u001b[0;32m--> 536\u001b[0m \u001b[43mresponse\u001b[49m\u001b[38;5;241;43m.\u001b[39;49m\u001b[43mraise_for_status\u001b[49m\u001b[43m(\u001b[49m\u001b[43m)\u001b[49m\n\u001b[1;32m    537\u001b[0m \u001b[38;5;28;01mif\u001b[39;00m response\u001b[38;5;241m.\u001b[39mstatus_code \u001b[38;5;241m==\u001b[39m \u001b[38;5;241m204\u001b[39m:\n\u001b[1;32m    538\u001b[0m     logger\u001b[38;5;241m.\u001b[39mwarning(\u001b[38;5;124m'\u001b[39m\u001b[38;5;124mempty response\u001b[39m\u001b[38;5;124m'\u001b[39m)\n",
      "File \u001b[0;32m~/.local/lib/python3.10/site-packages/requests/models.py:1021\u001b[0m, in \u001b[0;36mResponse.raise_for_status\u001b[0;34m(self)\u001b[0m\n\u001b[1;32m   1016\u001b[0m     http_error_msg \u001b[38;5;241m=\u001b[39m (\n\u001b[1;32m   1017\u001b[0m         \u001b[38;5;124mf\u001b[39m\u001b[38;5;124m\"\u001b[39m\u001b[38;5;132;01m{\u001b[39;00m\u001b[38;5;28mself\u001b[39m\u001b[38;5;241m.\u001b[39mstatus_code\u001b[38;5;132;01m}\u001b[39;00m\u001b[38;5;124m Server Error: \u001b[39m\u001b[38;5;132;01m{\u001b[39;00mreason\u001b[38;5;132;01m}\u001b[39;00m\u001b[38;5;124m for url: \u001b[39m\u001b[38;5;132;01m{\u001b[39;00m\u001b[38;5;28mself\u001b[39m\u001b[38;5;241m.\u001b[39murl\u001b[38;5;132;01m}\u001b[39;00m\u001b[38;5;124m\"\u001b[39m\n\u001b[1;32m   1018\u001b[0m     )\n\u001b[1;32m   1020\u001b[0m \u001b[38;5;28;01mif\u001b[39;00m http_error_msg:\n\u001b[0;32m-> 1021\u001b[0m     \u001b[38;5;28;01mraise\u001b[39;00m HTTPError(http_error_msg, response\u001b[38;5;241m=\u001b[39m\u001b[38;5;28mself\u001b[39m)\n",
      "\u001b[0;31mHTTPError\u001b[0m: 400 Client Error: Bad Request for url: https://healthcare.googleapis.com/v1/projects/idc-external-031/locations/europe-west2/datasets/kaapana-integration-test/dicomStores/kaapana-integration-test-store/dicomWeb/studies/1.2.826.0.1.3680043.8.1055.1.20111103111148288.98361414.79379639/series/1.2.826.0.1.3680043.8.1055.1.20111103111208937.49685336.24517034/instances/1.2.826.0.1.3680043.8.1055.1.20111103111208937.40440871.13152534/frames/1/rendered?quality=95&iccprofile=yes"
     ]
    }
   ],
   "source": [
    "frames = client.retrieve_instance_frames_rendered(\n",
    "    study_instance_uid='1.2.826.0.1.3680043.8.1055.1.20111103111148288.98361414.79379639',\n",
    "    series_instance_uid='1.2.826.0.1.3680043.8.1055.1.20111103111208937.49685336.24517034',\n",
    "    sop_instance_uid='1.2.826.0.1.3680043.8.1055.1.20111103111208937.40440871.13152534',\n",
    "    frame_numbers=[1],\n",
    "    media_types=('image/jpeg', ),\n",
    "    params={'quality': 95, 'iccprofile': 'yes'}\n",
    ")"
   ]
  },
  {
   "cell_type": "code",
   "execution_count": null,
   "metadata": {},
   "outputs": [],
   "source": []
  }
 ],
 "metadata": {
  "kernelspec": {
   "display_name": "Python 3",
   "language": "python",
   "name": "python3"
  },
  "language_info": {
   "codemirror_mode": {
    "name": "ipython",
    "version": 3
   },
   "file_extension": ".py",
   "mimetype": "text/x-python",
   "name": "python",
   "nbconvert_exporter": "python",
   "pygments_lexer": "ipython3",
   "version": "3.10.12"
  }
 },
 "nbformat": 4,
 "nbformat_minor": 2
}
