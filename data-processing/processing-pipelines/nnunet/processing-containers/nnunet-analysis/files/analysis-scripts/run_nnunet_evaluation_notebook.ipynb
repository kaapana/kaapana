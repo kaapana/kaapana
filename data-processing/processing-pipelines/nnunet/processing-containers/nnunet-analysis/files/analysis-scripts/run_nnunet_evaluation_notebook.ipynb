{
 "cells": [
  {
   "cell_type": "code",
   "execution_count": null,
   "metadata": {},
   "outputs": [],
   "source": [
    "# %load_ext autoreload\n",
    "# %autoreload 2\n",
    "import os\n",
    "import sys\n",
    "import json\n",
    "import seaborn as sns\n",
    "import pandas as pd\n",
    "import matplotlib.pyplot as plt\n",
    "from pathlib import Path\n",
    "from IPython.display import display, Image\n",
    "import plotly.express as px"
   ]
  },
  {
   "cell_type": "code",
   "execution_count": null,
   "metadata": {},
   "outputs": [],
   "source": [
    "batch_input_dir = Path('/') / os.getenv('WORKFLOW_DIR') / os.getenv('OPERATOR_IN_DIR')\n",
    "batch_output_dir = Path('/') / os.getenv('WORKFLOW_DIR') / os.getenv('OPERATOR_OUT_DIR')\n",
    "df_data = pd.read_csv(batch_input_dir / 'dice_results.csv', sep='\\t').drop(columns='Unnamed: 0')"
   ]
  },
  {
   "cell_type": "code",
   "execution_count": null,
   "metadata": {},
   "outputs": [],
   "source": [
    "# # Version Jonas\n",
    "# def create_plots(data_table, table_name, result_dir):\n",
    "#     print(f\"# Creating boxplots: {table_name}\")\n",
    "#     os.makedirs(result_dir, exist_ok=True)\n",
    "\n",
    "#     plot_labels = sorted(list(data_table.Model.unique()))\n",
    "#     if \"ensemble\" in plot_labels:\n",
    "#         plot_labels.append(plot_labels.pop(plot_labels.index('ensemble')))\n",
    "\n",
    "#     fig, ax1 = plt.subplots(1, 1, figsize=(12, 14))\n",
    "#     box_plot = sns.boxplot(x=\"Model\", y=\"Dice\", hue=\"Label\", palette=\"Set3\", data=data_table, ax=ax1, order=plot_labels)\n",
    "#     box_plot.set_xticklabels(box_plot.get_xticklabels(), rotation=40, ha=\"right\")\n",
    "\n",
    "#     box = box_plot.get_position()\n",
    "#     box_plot.set_position([box.x0, box.y0, box.width * 0.85, box.height])  # resize position\n",
    "#     box_plot.legend(loc='center right', bbox_to_anchor=(1.22, 0.5), ncol=1)\n",
    "#     plt.tight_layout()\n",
    "#     fig.savefig(os.path.join(result_dir, f\"pdf_results_{table_name}.pdf\"))\n",
    "#     fig.savefig(os.path.join(result_dir, f\"png_results_{table_name}.png\"), dpi=fig.dpi)\n",
    "#     # plt.show()\n",
    "#     print(\"# DONE\")\n",
    "\n",
    "# labels = df_data['Label'].unique()\n",
    "\n",
    "# for label in labels:\n",
    "#     df_filtered = df_data[df_data.Label == label]\n",
    "#     create_plots(data_table=df_filtered, table_name=label, result_dir=batch_output_dir)\n",
    "# create_plots(data_table=df_data, table_name=\"all\", result_dir=batch_output_dir)\n"
   ]
  },
  {
   "cell_type": "markdown",
   "metadata": {},
   "source": [
    "## NNUnet Results"
   ]
  },
  {
   "cell_type": "code",
   "execution_count": null,
   "metadata": {},
   "outputs": [],
   "source": [
    "def plot_metric(metric=\"Dice\", splitted=True):\n",
    "    labels = df_data['Label'].unique()\n",
    "    filename = f'{metric}_scores'\n",
    "    if splitted is True:\n",
    "        for label in labels:\n",
    "            df_filtered = df_data[df_data.Label == label]\n",
    "            fig = px.box(df_filtered, title=metric, x=\"Model\", y=\"Dice\", color=\"Label\")\n",
    "            save_filename =  f\"{filename}_{label}\"\n",
    "            fig.write_image(batch_output_dir / f\"{save_filename}.png\")\n",
    "            fig.write_image(batch_output_dir / f\"{save_filename}.svg\")\n",
    "            display(Image(filename=batch_output_dir / f\"{save_filename}.png\"))\n",
    "    else:\n",
    "        fig = px.box(df_data, title=metric, x=\"Model\", y=\"Dice\", color=\"Label\")\n",
    "        save_filename =  f\"{filename}_all\"\n",
    "        fig.write_image(batch_output_dir / f\"{save_filename}.png\")\n",
    "        fig.write_image(batch_output_dir / f\"{save_filename}.svg\")\n",
    "        display(Image(filename=batch_output_dir / f\"{save_filename}.png\"))\n",
    "    #     create_plots(data_table=df_filtered, table_name=label, result_dir=batch_output_dir)\n",
    "    # create_plots(data_table=df_data, table_name=\"all\", result_dir=batch_output_dir)"
   ]
  },
  {
   "cell_type": "code",
   "execution_count": null,
   "metadata": {},
   "outputs": [],
   "source": [
    "plot_metric(splitted=False)"
   ]
  },
  {
   "cell_type": "code",
   "execution_count": null,
   "metadata": {},
   "outputs": [],
   "source": [
    "plot_metric('ASD', splitted=False)"
   ]
  },
  {
   "cell_type": "code",
   "execution_count": null,
   "metadata": {},
   "outputs": [],
   "source": [
    "plot_metric(splitted=True)"
   ]
  },
  {
   "cell_type": "code",
   "execution_count": null,
   "metadata": {},
   "outputs": [],
   "source": [
    "plot_metric('ASD', splitted=True)"
   ]
  },
  {
   "cell_type": "code",
   "execution_count": null,
   "metadata": {},
   "outputs": [],
   "source": []
  }
 ],
 "metadata": {
  "kernelspec": {
   "display_name": "Python 3.8.10 64-bit",
   "language": "python",
   "name": "python3"
  },
  "language_info": {
   "codemirror_mode": {
    "name": "ipython",
    "version": 3
   },
   "file_extension": ".py",
   "mimetype": "text/x-python",
   "name": "python",
   "nbconvert_exporter": "python",
   "pygments_lexer": "ipython3",
   "version": "3.8.10 (default, Mar 15 2022, 12:22:08) \n[GCC 9.4.0]"
  },
  "vscode": {
   "interpreter": {
    "hash": "916dbcbb3f70747c44a77c7bcd40155683ae19c65e1c03b4aa3499c5328201f1"
   }
  }
 },
 "nbformat": 4,
 "nbformat_minor": 4
}
