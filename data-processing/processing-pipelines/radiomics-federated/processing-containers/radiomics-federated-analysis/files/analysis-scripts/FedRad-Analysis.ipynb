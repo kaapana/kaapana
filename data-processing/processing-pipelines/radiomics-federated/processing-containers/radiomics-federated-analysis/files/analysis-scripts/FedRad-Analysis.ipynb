{
 "cells": [
  {
   "cell_type": "markdown",
   "id": "569d82f8-36ea-41d8-8056-728944c9f825",
   "metadata": {},
   "source": [
    "# Federated Radiomics"
   ]
  },
  {
   "cell_type": "code",
   "execution_count": null,
   "id": "a96f1ce1-771c-48c6-84ed-9f21dfe59be8",
   "metadata": {},
   "outputs": [],
   "source": [
    "import pandas as pd\n",
    "import re\n",
    "import os\n",
    "from pathlib import Path\n",
    "import matplotlib.pyplot as plt\n",
    "import seaborn as sns\n",
    "from glob import glob"
   ]
  },
  {
   "cell_type": "code",
   "execution_count": null,
   "id": "5d119371-971b-4487-b1af-99878838b568",
   "metadata": {},
   "outputs": [],
   "source": [
    "root_dir = os.getenv(\"BATCHES_INPUT_DIR\", '../radiomics-federated-central/batch')\n",
    "root_dir = Path(os.getenv(\"WORKFLOW_DIR\")) / os.getenv(\"OPERATOR_IN_DIR\") / \"0\"\n",
    "dfs = []\n",
    "expr = re.compile(f\"{str(root_dir)}/(.*)/batch/(.*)/radiomics/(.*)--(.*)--(.*)_radiomics.csv\")\n",
    "for csv_filename in root_dir.rglob(\"*.csv\"):\n",
    "    try:\n",
    "        match = expr.match(str(csv_filename))\n",
    "        site = match.group(1)\n",
    "        series_uid = match.group(3)\n",
    "        seg_id = int(match.group(4))\n",
    "        label = match.group(5)\n",
    "        df = pd.read_csv(csv_filename, sep=';')\n",
    "        df[\"site\"] = site\n",
    "        df[\"series_uid\"] = series_uid\n",
    "        df[\"seg_id\"] = seg_id\n",
    "        df[\"label\"] = label\n",
    "        dfs.append(df)\n",
    "    except Exception as e:\n",
    "        print(e)\n",
    "        \n",
    "df = pd.concat(dfs)"
   ]
  },
  {
   "cell_type": "markdown",
   "id": "cfc14283-ff3d-47f1-b543-76cf3d75dd58",
   "metadata": {},
   "source": [
    "## Descriptive Statistics"
   ]
  },
  {
   "cell_type": "code",
   "execution_count": null,
   "id": "ef247deb-3713-467c-99a5-971698b0bdca",
   "metadata": {},
   "outputs": [],
   "source": [
    "df[[\"site\", \"label\", \"series_uid\"]].groupby([\"site\", \"label\"]).size()"
   ]
  },
  {
   "cell_type": "code",
   "execution_count": null,
   "id": "39af177c-8c40-452e-b119-7337c43baf10",
   "metadata": {},
   "outputs": [],
   "source": [
    "df.groupby(\"label\").mean()"
   ]
  },
  {
   "cell_type": "code",
   "execution_count": null,
   "id": "09e0859b-ee9b-4938-a69e-61ffa92f6f58",
   "metadata": {},
   "outputs": [],
   "source": [
    "for key in df.columns:\n",
    "    if key.startswith(\"First\"):\n",
    "        plt.figure()\n",
    "        ax = sns.boxplot(data=df.reset_index(), x=key, y=\"label\")"
   ]
  }
 ],
 "metadata": {
  "kernelspec": {
   "display_name": "Python 3 (ipykernel)",
   "language": "python",
   "name": "python3"
  },
  "language_info": {
   "codemirror_mode": {
    "name": "ipython",
    "version": 3
   },
   "file_extension": ".py",
   "mimetype": "text/x-python",
   "name": "python",
   "nbconvert_exporter": "python",
   "pygments_lexer": "ipython3",
   "version": "3.9.16"
  }
 },
 "nbformat": 4,
 "nbformat_minor": 5
}
