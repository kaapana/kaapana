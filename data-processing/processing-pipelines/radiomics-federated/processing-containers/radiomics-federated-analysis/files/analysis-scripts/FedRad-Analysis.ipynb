{
 "cells": [
  {
   "cell_type": "markdown",
   "id": "569d82f8-36ea-41d8-8056-728944c9f825",
   "metadata": {},
   "source": [
    "# Federated Radiomics"
   ]
  },
  {
   "cell_type": "code",
   "execution_count": 19,
   "id": "a96f1ce1-771c-48c6-84ed-9f21dfe59be8",
   "metadata": {},
   "outputs": [],
   "source": [
    "import pandas as pd\n",
    "import re\n",
    "import os\n",
    "from glob2 import glob"
   ]
  },
  {
   "cell_type": "code",
   "execution_count": 24,
   "id": "5d119371-971b-4487-b1af-99878838b568",
   "metadata": {},
   "outputs": [
    {
     "name": "stdout",
     "output_type": "stream",
     "text": [
      "Root Dir: ../radiomics-federated-central/batch/batch-2023-01-16_14-51-02\n"
     ]
    }
   ],
   "source": [
    "root_dir = os.getenv(\"BATCHES_INPUT_DIR\", '../radiomics-federated-central/batch')\n",
    "batch_dir = os.path.join(root_dir, sorted(os.listdir(root_dir))[-1])\n",
    "print(f\"Root Dir: {batch_dir}\")\n",
    "\n",
    "dfs = []\n",
    "expr = re.compile(\".*radiomics-federated-operator/0/(.*)/radiomics-packaging-operator/(.*)/(.*)--(.*)--(.*)_radiomics.csv\")\n",
    "for csv_filename in glob(f\"{batch_dir}/radiomics-federated-operator/**/*.csv\"):\n",
    "    try:\n",
    "        match = expr.match(csv_filename)\n",
    "        site = match.group(1)\n",
    "        series_uid = match.group(3)\n",
    "        seg_id = int(match.group(4))\n",
    "        label = match.group(5)\n",
    "\n",
    "        df = pd.read_csv(csv_filename, sep=';')\n",
    "        df[\"site\"] = site\n",
    "        df[\"series_uid\"] = series_uid\n",
    "        df[\"seg_id\"] = seg_id\n",
    "        df[\"label\"] = label\n",
    "        dfs.append(df)\n",
    "    except Exception as e:\n",
    "        print(e)\n",
    "        \n",
    "df = pd.concat(dfs)"
   ]
  },
  {
   "cell_type": "markdown",
   "id": "cfc14283-ff3d-47f1-b543-76cf3d75dd58",
   "metadata": {},
   "source": [
    "## Descriptive Statistics"
   ]
  },
  {
   "cell_type": "code",
   "execution_count": 25,
   "id": "ef247deb-3713-467c-99a5-971698b0bdca",
   "metadata": {},
   "outputs": [
    {
     "data": {
      "text/plain": [
       "site   label            \n",
       "siteA  esophagus            20\n",
       "       heart                 1\n",
       "       lung                 40\n",
       "       neoplasm,_primary    22\n",
       "       spinal_cord          16\n",
       "siteB  esophagus            13\n",
       "       heart                 1\n",
       "       lung                 47\n",
       "       neoplasm,_primary    23\n",
       "       spinal_cord          16\n",
       "dtype: int64"
      ]
     },
     "execution_count": 25,
     "metadata": {},
     "output_type": "execute_result"
    }
   ],
   "source": [
    "df[[\"site\", \"label\", \"series_uid\"]].groupby([\"site\", \"label\"]).size()"
   ]
  },
  {
   "cell_type": "code",
   "execution_count": 22,
   "id": "39af177c-8c40-452e-b119-7337c43baf10",
   "metadata": {},
   "outputs": [
    {
     "data": {
      "text/html": [
       "<div>\n",
       "<style scoped>\n",
       "    .dataframe tbody tr th:only-of-type {\n",
       "        vertical-align: middle;\n",
       "    }\n",
       "\n",
       "    .dataframe tbody tr th {\n",
       "        vertical-align: top;\n",
       "    }\n",
       "\n",
       "    .dataframe thead th {\n",
       "        text-align: right;\n",
       "    }\n",
       "</style>\n",
       "<table border=\"1\" class=\"dataframe\">\n",
       "  <thead>\n",
       "    <tr style=\"text-align: right;\">\n",
       "      <th></th>\n",
       "      <th>SliceNumber</th>\n",
       "      <th>First Order::Mean</th>\n",
       "      <th>First Order::Unbiased Variance</th>\n",
       "      <th>First Order::Biased Variance</th>\n",
       "      <th>First Order::Skewness</th>\n",
       "      <th>First Order::Kurtosis</th>\n",
       "      <th>First Order::Median</th>\n",
       "      <th>First Order::Minimum</th>\n",
       "      <th>First Order::Maximum</th>\n",
       "      <th>First Order::Range</th>\n",
       "      <th>...</th>\n",
       "      <th>First Order::80th Percentile</th>\n",
       "      <th>First Order::85th Percentile</th>\n",
       "      <th>First Order::90th Percentile</th>\n",
       "      <th>First Order::95th Percentile</th>\n",
       "      <th>First Order::Interquartile Range</th>\n",
       "      <th>First Order::Image Dimension</th>\n",
       "      <th>First Order::Voxel Space</th>\n",
       "      <th>First Order::Voxel Volume</th>\n",
       "      <th>Unnamed: 56</th>\n",
       "      <th>seg_id</th>\n",
       "    </tr>\n",
       "    <tr>\n",
       "      <th>label</th>\n",
       "      <th></th>\n",
       "      <th></th>\n",
       "      <th></th>\n",
       "      <th></th>\n",
       "      <th></th>\n",
       "      <th></th>\n",
       "      <th></th>\n",
       "      <th></th>\n",
       "      <th></th>\n",
       "      <th></th>\n",
       "      <th></th>\n",
       "      <th></th>\n",
       "      <th></th>\n",
       "      <th></th>\n",
       "      <th></th>\n",
       "      <th></th>\n",
       "      <th></th>\n",
       "      <th></th>\n",
       "      <th></th>\n",
       "      <th></th>\n",
       "      <th></th>\n",
       "    </tr>\n",
       "  </thead>\n",
       "  <tbody>\n",
       "    <tr>\n",
       "      <th>lung</th>\n",
       "      <td>0.0</td>\n",
       "      <td>-734.744</td>\n",
       "      <td>37684.2</td>\n",
       "      <td>37684.9</td>\n",
       "      <td>1.92503</td>\n",
       "      <td>6.36485</td>\n",
       "      <td>-792.057</td>\n",
       "      <td>-1023.0</td>\n",
       "      <td>416.0</td>\n",
       "      <td>1439.0</td>\n",
       "      <td>...</td>\n",
       "      <td>-652.717</td>\n",
       "      <td>-570.554</td>\n",
       "      <td>-448.367</td>\n",
       "      <td>-258.695</td>\n",
       "      <td>149.022</td>\n",
       "      <td>3.0</td>\n",
       "      <td>2.86102</td>\n",
       "      <td>2.86102</td>\n",
       "      <td>NaN</td>\n",
       "      <td>3.0</td>\n",
       "    </tr>\n",
       "  </tbody>\n",
       "</table>\n",
       "<p>1 rows × 53 columns</p>\n",
       "</div>"
      ],
      "text/plain": [
       "       SliceNumber  First Order::Mean  First Order::Unbiased Variance  \\\n",
       "label                                                                   \n",
       "lung           0.0           -734.744                         37684.2   \n",
       "\n",
       "       First Order::Biased Variance  First Order::Skewness  \\\n",
       "label                                                        \n",
       "lung                        37684.9                1.92503   \n",
       "\n",
       "       First Order::Kurtosis  First Order::Median  First Order::Minimum  \\\n",
       "label                                                                     \n",
       "lung                 6.36485             -792.057               -1023.0   \n",
       "\n",
       "       First Order::Maximum  First Order::Range  ...  \\\n",
       "label                                            ...   \n",
       "lung                  416.0              1439.0  ...   \n",
       "\n",
       "       First Order::80th Percentile  First Order::85th Percentile  \\\n",
       "label                                                               \n",
       "lung                       -652.717                      -570.554   \n",
       "\n",
       "       First Order::90th Percentile  First Order::95th Percentile  \\\n",
       "label                                                               \n",
       "lung                       -448.367                      -258.695   \n",
       "\n",
       "       First Order::Interquartile Range  First Order::Image Dimension  \\\n",
       "label                                                                   \n",
       "lung                            149.022                           3.0   \n",
       "\n",
       "       First Order::Voxel Space  First Order::Voxel Volume  Unnamed: 56  \\\n",
       "label                                                                     \n",
       "lung                    2.86102                    2.86102          NaN   \n",
       "\n",
       "       seg_id  \n",
       "label          \n",
       "lung      3.0  \n",
       "\n",
       "[1 rows x 53 columns]"
      ]
     },
     "execution_count": 22,
     "metadata": {},
     "output_type": "execute_result"
    }
   ],
   "source": [
    "df.groupby(\"label\").mean()"
   ]
  },
  {
   "cell_type": "code",
   "execution_count": 13,
   "id": "09e0859b-ee9b-4938-a69e-61ffa92f6f58",
   "metadata": {},
   "outputs": [
    {
     "data": {
      "text/plain": [
       "<AxesSubplot:>"
      ]
     },
     "execution_count": 13,
     "metadata": {},
     "output_type": "execute_result"
    },
    {
     "data": {
      "image/png": "[encoded data removed]",
      "text/plain": [
       "<Figure size 432x288 with 1 Axes>"
      ]
     },
     "metadata": {
      "needs_background": "light"
     },
     "output_type": "display_data"
    }
   ],
   "source": [
    "df[df.label == \"lung\"]['First Order::Number Of Voxels'].hist()"
   ]
  },
  {
   "cell_type": "code",
   "execution_count": 14,
   "id": "cdeee259-01f1-4ff0-91d1-6fbf7e1bb7de",
   "metadata": {},
   "outputs": [
    {
     "data": {
      "text/plain": [
       "<AxesSubplot:>"
      ]
     },
     "execution_count": 14,
     "metadata": {},
     "output_type": "execute_result"
    },
    {
     "data": {
      "image/png": "[encoded data removed]",
      "text/plain": [
       "<Figure size 432x288 with 1 Axes>"
      ]
     },
     "metadata": {
      "needs_background": "light"
     },
     "output_type": "display_data"
    }
   ],
   "source": [
    "df[df.label == \"spinal_cord\"]['First Order::Number Of Voxels'].hist()"
   ]
  },
  {
   "cell_type": "code",
   "execution_count": null,
   "id": "9a02cb41-d0f6-4437-ab81-33c64a908140",
   "metadata": {},
   "outputs": [],
   "source": []
  }
 ],
 "metadata": {
  "kernelspec": {
   "display_name": "Python 3 (ipykernel)",
   "language": "python",
   "name": "python3"
  },
  "language_info": {
   "codemirror_mode": {
    "name": "ipython",
    "version": 3
   },
   "file_extension": ".py",
   "mimetype": "text/x-python",
   "name": "python",
   "nbconvert_exporter": "python",
   "pygments_lexer": "ipython3",
   "version": "3.8.12"
  }
 },
 "nbformat": 4,
 "nbformat_minor": 5
}
